{
 "cells": [
  {
   "cell_type": "code",
   "execution_count": 47,
   "metadata": {},
   "outputs": [],
   "source": [
    "import csv\n",
    "import psycopg2"
   ]
  },
  {
   "cell_type": "code",
   "execution_count": 55,
   "metadata": {
    "collapsed": true
   },
   "outputs": [],
   "source": [
    "db_conn = None\n",
    "def get_db_conn():\n",
    "    global db_conn\n",
    "    if db_conn is not None:\n",
    "        return db_conn\n",
    "    db_conn = psycopg2.connect(\n",
    "        database=\"cogdb\",\n",
    "        user=\"sylvia\",\n",
    "        password=\"L@unchM3N0w\",\n",
    "        host=\"localhost\",\n",
    "        port=\"20000\"\n",
    "    )\n",
    "    return db_conn\n"
   ]
  },
  {
   "cell_type": "code",
   "execution_count": 56,
   "metadata": {
    "collapsed": true
   },
   "outputs": [],
   "source": [
    "def ingest_parcels(csv_file, municode, pclkey_start):\n",
    "    db_conn = get_db_conn()\n",
    "    matchcount = 0\n",
    "    reccount = 0\n",
    "    maxdisp = 100\n",
    "    cursor = db_conn.cursor()\n",
    "    if cursor:\n",
    "        print(\"we have a cursor!\")\n",
    "    else:\n",
    "        print(\"no cursor :(\")\n",
    "    # Using hard-coded event type ID: 18, for code enforcement letter type\n",
    "    sql_command = \"\"\"\n",
    "    INSERT INTO public.parcel(\n",
    "            parcelkey, parcelidcnty, source_sourceid, createdts, createdby_userid, \n",
    "            lastupdatedts, lastupdatedby_userid, deactivatedts, deactivatedby_userid, \n",
    "            notes, muni_municode, lotandblock, broadview_photodocid)\n",
    "    VALUES (%(SCPTKEY)s, %(PARID)s, 13 , now(), 100, \n",
    "            now(), 100, NULL, NULL, \n",
    "            'WPRDC CSV write',927, NULL, NULL);\n",
    "\n",
    "    \"\"\"\n",
    "    with open(csv_file, 'r', newline='') as infile:\n",
    "            reader = csv.DictReader(infile)\n",
    "            for row in reader:\n",
    "#                 print(row)\n",
    "                if row['MUNICODE'] == municode:\n",
    "                    matchcount+=1\n",
    "                    row['SCPTKEY']=str(pclkey_start)\n",
    "                    # Insert the data to the Postgres table\n",
    "                    cursor.execute(sql_command, row)\n",
    "                    db_conn.commit()    \n",
    "#                     print(\"done inserting \", pclkey_start)\n",
    "                    pclkey_start+=1\n",
    "    print(\"matching record count: \", matchcount)"
   ]
  },
  {
   "cell_type": "code",
   "execution_count": 57,
   "metadata": {},
   "outputs": [
    {
     "name": "stdout",
     "output_type": "stream",
     "text": [
      "we have a cursor!\n",
      "matching record count:  11231\n"
     ]
    }
   ],
   "source": [
    "db_conn = get_db_conn()\n",
    "ingest_parcels('/home/sylvia/cogconnect_clientdocs/mccandless/parcels.csv', '927',2000000)\n",
    "# db_conn.commit()    \n",
    "# db_conn.close()\n"
   ]
  }
 ],
 "metadata": {
  "kernelspec": {
   "display_name": "Python 3",
   "language": "python",
   "name": "python3"
  },
  "language_info": {
   "codemirror_mode": {
    "name": "ipython",
    "version": 3
   },
   "file_extension": ".py",
   "mimetype": "text/x-python",
   "name": "python",
   "nbconvert_exporter": "python",
   "pygments_lexer": "ipython3",
   "version": "3.6.3"
  }
 },
 "nbformat": 4,
 "nbformat_minor": 2
}
